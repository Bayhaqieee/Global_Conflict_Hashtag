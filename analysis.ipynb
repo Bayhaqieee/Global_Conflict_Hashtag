{
 "cells": [
  {
   "cell_type": "markdown",
   "metadata": {},
   "source": [
    "# Analysis Project on Data : Global Conflict Hashtag on Social Media\n",
    "- **Linkedin :** Muhammad Aditya Bayhaqie\n",
    "- **Email :** adityabayhaqie@gmail.com\n",
    "- **Github :** bayhaqieee"
   ]
  },
  {
   "cell_type": "markdown",
   "metadata": {},
   "source": [
    "## Business Questions"
   ]
  },
  {
   "cell_type": "markdown",
   "metadata": {},
   "source": [
    "- When is the Highest Posting time and Lowest Posting time for the Most Hashtag?\n",
    "- Which Conflict shows a High Exposure on Hashtag?\n",
    "- What Content Summary for each Tag?\n",
    "- Which Hashtag has the Most Comments, Likes and Views? (separated)\n",
    "- Which Higher Engagement of Social Media Used for sharing the Hashtags?"
   ]
  },
  {
   "cell_type": "markdown",
   "metadata": {},
   "source": [
    "## Data Preparation"
   ]
  },
  {
   "cell_type": "markdown",
   "metadata": {},
   "source": [
    "#### Importing Library"
   ]
  },
  {
   "cell_type": "code",
   "execution_count": 1,
   "metadata": {},
   "outputs": [],
   "source": [
    "import numpy as np\n",
    "import pandas as pd\n",
    "import matplotlib.pyplot as plt\n",
    "import seaborn as sns\n",
    "import folium\n",
    "from datetime import datetime"
   ]
  },
  {
   "cell_type": "markdown",
   "metadata": {},
   "source": [
    "#### Assigning Data"
   ]
  },
  {
   "cell_type": "code",
   "execution_count": 2,
   "metadata": {},
   "outputs": [
    {
     "data": {
      "text/html": [
       "<div>\n",
       "<style scoped>\n",
       "    .dataframe tbody tr th:only-of-type {\n",
       "        vertical-align: middle;\n",
       "    }\n",
       "\n",
       "    .dataframe tbody tr th {\n",
       "        vertical-align: top;\n",
       "    }\n",
       "\n",
       "    .dataframe thead th {\n",
       "        text-align: right;\n",
       "    }\n",
       "</style>\n",
       "<table border=\"1\" class=\"dataframe\">\n",
       "  <thead>\n",
       "    <tr style=\"text-align: right;\">\n",
       "      <th></th>\n",
       "      <th>fromSocial</th>\n",
       "      <th>text</th>\n",
       "      <th>likesCount</th>\n",
       "      <th>commentsCount</th>\n",
       "      <th>viewsCount</th>\n",
       "      <th>input</th>\n",
       "      <th>authorMeta/name</th>\n",
       "      <th>creationDate</th>\n",
       "    </tr>\n",
       "  </thead>\n",
       "  <tbody>\n",
       "    <tr>\n",
       "      <th>0</th>\n",
       "      <td>youtube</td>\n",
       "      <td>NaN</td>\n",
       "      <td>NaN</td>\n",
       "      <td>NaN</td>\n",
       "      <td>NaN</td>\n",
       "      <td>yemencivilwar</td>\n",
       "      <td>NaN</td>\n",
       "      <td>NaN</td>\n",
       "    </tr>\n",
       "    <tr>\n",
       "      <th>1</th>\n",
       "      <td>youtube</td>\n",
       "      <td>Russia-Ukraine Conflict: Putin Warns NATO Risk...</td>\n",
       "      <td>22.0</td>\n",
       "      <td>7.0</td>\n",
       "      <td>3069.0</td>\n",
       "      <td>russiaukraineconflict</td>\n",
       "      <td>CNN-News18</td>\n",
       "      <td>2024-09-13T16:23:39.000Z</td>\n",
       "    </tr>\n",
       "    <tr>\n",
       "      <th>2</th>\n",
       "      <td>youtube</td>\n",
       "      <td>LIVE: Russia Launches Waves of Drone Attacks o...</td>\n",
       "      <td>118.0</td>\n",
       "      <td>21.0</td>\n",
       "      <td>16358.0</td>\n",
       "      <td>russiaukraineconflict</td>\n",
       "      <td>Firstpost</td>\n",
       "      <td>2024-10-01T00:17:49.000Z</td>\n",
       "    </tr>\n",
       "    <tr>\n",
       "      <th>3</th>\n",
       "      <td>youtube</td>\n",
       "      <td>Russian Forces Take Over Ukraine's Avdiivka | ...</td>\n",
       "      <td>166.0</td>\n",
       "      <td>56.0</td>\n",
       "      <td>18054.0</td>\n",
       "      <td>russiaukraineconflict</td>\n",
       "      <td>CNBC-TV18</td>\n",
       "      <td>2024-02-19T15:37:34.000Z</td>\n",
       "    </tr>\n",
       "    <tr>\n",
       "      <th>4</th>\n",
       "      <td>youtube</td>\n",
       "      <td>Russia-Ukraine War: Ukraine's Surprise Attack ...</td>\n",
       "      <td>53.0</td>\n",
       "      <td>4.0</td>\n",
       "      <td>6096.0</td>\n",
       "      <td>russiaukraineconflict</td>\n",
       "      <td>DD India</td>\n",
       "      <td>2024-08-24T13:36:51.000Z</td>\n",
       "    </tr>\n",
       "  </tbody>\n",
       "</table>\n",
       "</div>"
      ],
      "text/plain": [
       "  fromSocial                                               text  likesCount  \\\n",
       "0    youtube                                                NaN         NaN   \n",
       "1    youtube  Russia-Ukraine Conflict: Putin Warns NATO Risk...        22.0   \n",
       "2    youtube  LIVE: Russia Launches Waves of Drone Attacks o...       118.0   \n",
       "3    youtube  Russian Forces Take Over Ukraine's Avdiivka | ...       166.0   \n",
       "4    youtube  Russia-Ukraine War: Ukraine's Surprise Attack ...        53.0   \n",
       "\n",
       "   commentsCount  viewsCount                  input authorMeta/name  \\\n",
       "0            NaN         NaN          yemencivilwar             NaN   \n",
       "1            7.0      3069.0  russiaukraineconflict      CNN-News18   \n",
       "2           21.0     16358.0  russiaukraineconflict       Firstpost   \n",
       "3           56.0     18054.0  russiaukraineconflict       CNBC-TV18   \n",
       "4            4.0      6096.0  russiaukraineconflict        DD India   \n",
       "\n",
       "               creationDate  \n",
       "0                       NaN  \n",
       "1  2024-09-13T16:23:39.000Z  \n",
       "2  2024-10-01T00:17:49.000Z  \n",
       "3  2024-02-19T15:37:34.000Z  \n",
       "4  2024-08-24T13:36:51.000Z  "
      ]
     },
     "execution_count": 2,
     "metadata": {},
     "output_type": "execute_result"
    }
   ],
   "source": [
    "data = pd.read_csv(\"Data/conflicts_hashtag_search.csv\")\n",
    "data.head()"
   ]
  },
  {
   "cell_type": "markdown",
   "metadata": {},
   "source": [
    "**Insight:**\n",
    "- There is in Total 1 Datasets Containing\n",
    "    - fromSocial\n",
    "        - Referred to which social media the posting being post\n",
    "    - text\n",
    "        - The Headline\n",
    "    - likesCount\n",
    "        - Numbers of Likes\n",
    "    - commentsCount\n",
    "        - Numbers of Comments\n",
    "    - viewsCount\n",
    "        - Numbers of Views\n",
    "    - input\n",
    "        - Hashtag (**PRIMARY**)\n",
    "    - authorMeta/name\n",
    "        - The Posters\n",
    "    - creationDate\n",
    "        - The Date of the Postings Created"
   ]
  },
  {
   "cell_type": "markdown",
   "metadata": {},
   "source": []
  }
 ],
 "metadata": {
  "kernelspec": {
   "display_name": "Python 3",
   "language": "python",
   "name": "python3"
  },
  "language_info": {
   "codemirror_mode": {
    "name": "ipython",
    "version": 3
   },
   "file_extension": ".py",
   "mimetype": "text/x-python",
   "name": "python",
   "nbconvert_exporter": "python",
   "pygments_lexer": "ipython3",
   "version": "3.12.7"
  }
 },
 "nbformat": 4,
 "nbformat_minor": 2
}
