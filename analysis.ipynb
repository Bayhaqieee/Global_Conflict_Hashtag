{
 "cells": [
  {
   "cell_type": "markdown",
   "metadata": {},
   "source": [
    "# Analysis Project on Data : Global Conflict Hashtag on Social Media\n",
    "- **Linkedin :** Muhammad Aditya Bayhaqie\n",
    "- **Email :** adityabayhaqie@gmail.com\n",
    "- **Github :** bayhaqieee"
   ]
  },
  {
   "cell_type": "markdown",
   "metadata": {},
   "source": [
    "## Business Questions"
   ]
  },
  {
   "cell_type": "markdown",
   "metadata": {},
   "source": [
    "- When is the Highest Posting time and Lowest Posting time for the Most Hashtag?\n",
    "- Which Conflict shows a High Exposure on Hashtag?\n",
    "- What Content Summary for each Tag?\n",
    "- Which Hashtag has the Most Comments, Likes and Views? (separated)\n",
    "- Which Higher Engagement of Social Media Used for sharing the Hashtags?"
   ]
  },
  {
   "cell_type": "markdown",
   "metadata": {},
   "source": [
    "## Data Preparation"
   ]
  },
  {
   "cell_type": "markdown",
   "metadata": {},
   "source": [
    "#### Importing Library"
   ]
  },
  {
   "cell_type": "code",
   "execution_count": 2,
   "metadata": {},
   "outputs": [],
   "source": [
    "import numpy as np\n",
    "import pandas as pd\n",
    "import matplotlib.pyplot as plt\n",
    "import seaborn as sns\n",
    "import folium\n",
    "from datetime import datetime"
   ]
  },
  {
   "cell_type": "markdown",
   "metadata": {},
   "source": [
    "#### Assigning Data"
   ]
  },
  {
   "cell_type": "code",
   "execution_count": 3,
   "metadata": {},
   "outputs": [
    {
     "data": {
      "text/html": [
       "<div>\n",
       "<style scoped>\n",
       "    .dataframe tbody tr th:only-of-type {\n",
       "        vertical-align: middle;\n",
       "    }\n",
       "\n",
       "    .dataframe tbody tr th {\n",
       "        vertical-align: top;\n",
       "    }\n",
       "\n",
       "    .dataframe thead th {\n",
       "        text-align: right;\n",
       "    }\n",
       "</style>\n",
       "<table border=\"1\" class=\"dataframe\">\n",
       "  <thead>\n",
       "    <tr style=\"text-align: right;\">\n",
       "      <th></th>\n",
       "      <th>fromSocial</th>\n",
       "      <th>text</th>\n",
       "      <th>likesCount</th>\n",
       "      <th>commentsCount</th>\n",
       "      <th>viewsCount</th>\n",
       "      <th>input</th>\n",
       "      <th>authorMeta/name</th>\n",
       "      <th>creationDate</th>\n",
       "    </tr>\n",
       "  </thead>\n",
       "  <tbody>\n",
       "    <tr>\n",
       "      <th>0</th>\n",
       "      <td>youtube</td>\n",
       "      <td>NaN</td>\n",
       "      <td>NaN</td>\n",
       "      <td>NaN</td>\n",
       "      <td>NaN</td>\n",
       "      <td>yemencivilwar</td>\n",
       "      <td>NaN</td>\n",
       "      <td>NaN</td>\n",
       "    </tr>\n",
       "    <tr>\n",
       "      <th>1</th>\n",
       "      <td>youtube</td>\n",
       "      <td>Russia-Ukraine Conflict: Putin Warns NATO Risk...</td>\n",
       "      <td>22.0</td>\n",
       "      <td>7.0</td>\n",
       "      <td>3069.0</td>\n",
       "      <td>russiaukraineconflict</td>\n",
       "      <td>CNN-News18</td>\n",
       "      <td>2024-09-13T16:23:39.000Z</td>\n",
       "    </tr>\n",
       "    <tr>\n",
       "      <th>2</th>\n",
       "      <td>youtube</td>\n",
       "      <td>LIVE: Russia Launches Waves of Drone Attacks o...</td>\n",
       "      <td>118.0</td>\n",
       "      <td>21.0</td>\n",
       "      <td>16358.0</td>\n",
       "      <td>russiaukraineconflict</td>\n",
       "      <td>Firstpost</td>\n",
       "      <td>2024-10-01T00:17:49.000Z</td>\n",
       "    </tr>\n",
       "    <tr>\n",
       "      <th>3</th>\n",
       "      <td>youtube</td>\n",
       "      <td>Russian Forces Take Over Ukraine's Avdiivka | ...</td>\n",
       "      <td>166.0</td>\n",
       "      <td>56.0</td>\n",
       "      <td>18054.0</td>\n",
       "      <td>russiaukraineconflict</td>\n",
       "      <td>CNBC-TV18</td>\n",
       "      <td>2024-02-19T15:37:34.000Z</td>\n",
       "    </tr>\n",
       "    <tr>\n",
       "      <th>4</th>\n",
       "      <td>youtube</td>\n",
       "      <td>Russia-Ukraine War: Ukraine's Surprise Attack ...</td>\n",
       "      <td>53.0</td>\n",
       "      <td>4.0</td>\n",
       "      <td>6096.0</td>\n",
       "      <td>russiaukraineconflict</td>\n",
       "      <td>DD India</td>\n",
       "      <td>2024-08-24T13:36:51.000Z</td>\n",
       "    </tr>\n",
       "  </tbody>\n",
       "</table>\n",
       "</div>"
      ],
      "text/plain": [
       "  fromSocial                                               text  likesCount  \\\n",
       "0    youtube                                                NaN         NaN   \n",
       "1    youtube  Russia-Ukraine Conflict: Putin Warns NATO Risk...        22.0   \n",
       "2    youtube  LIVE: Russia Launches Waves of Drone Attacks o...       118.0   \n",
       "3    youtube  Russian Forces Take Over Ukraine's Avdiivka | ...       166.0   \n",
       "4    youtube  Russia-Ukraine War: Ukraine's Surprise Attack ...        53.0   \n",
       "\n",
       "   commentsCount  viewsCount                  input authorMeta/name  \\\n",
       "0            NaN         NaN          yemencivilwar             NaN   \n",
       "1            7.0      3069.0  russiaukraineconflict      CNN-News18   \n",
       "2           21.0     16358.0  russiaukraineconflict       Firstpost   \n",
       "3           56.0     18054.0  russiaukraineconflict       CNBC-TV18   \n",
       "4            4.0      6096.0  russiaukraineconflict        DD India   \n",
       "\n",
       "               creationDate  \n",
       "0                       NaN  \n",
       "1  2024-09-13T16:23:39.000Z  \n",
       "2  2024-10-01T00:17:49.000Z  \n",
       "3  2024-02-19T15:37:34.000Z  \n",
       "4  2024-08-24T13:36:51.000Z  "
      ]
     },
     "execution_count": 3,
     "metadata": {},
     "output_type": "execute_result"
    }
   ],
   "source": [
    "data_df = pd.read_csv(\"Data/conflicts_hashtag_search.csv\")\n",
    "data_df.head()"
   ]
  },
  {
   "cell_type": "markdown",
   "metadata": {},
   "source": [
    "**Insight:**\n",
    "- There is in Total 1 Datasets Containing\n",
    "    - fromSocial\n",
    "        - Referred to which social media the posting being post\n",
    "    - text\n",
    "        - The Headline\n",
    "    - likesCount\n",
    "        - Numbers of Likes\n",
    "    - commentsCount\n",
    "        - Numbers of Comments\n",
    "    - viewsCount\n",
    "        - Numbers of Views\n",
    "    - input\n",
    "        - Hashtag (**PRIMARY**)\n",
    "    - authorMeta/name\n",
    "        - The Posters\n",
    "    - creationDate\n",
    "        - The Date of the Postings Created"
   ]
  },
  {
   "cell_type": "markdown",
   "metadata": {},
   "source": [
    "## Data Assessment"
   ]
  },
  {
   "cell_type": "markdown",
   "metadata": {},
   "source": [
    "### Assessing Data"
   ]
  },
  {
   "cell_type": "code",
   "execution_count": 4,
   "metadata": {},
   "outputs": [
    {
     "name": "stdout",
     "output_type": "stream",
     "text": [
      "<class 'pandas.core.frame.DataFrame'>\n",
      "RangeIndex: 2546 entries, 0 to 2545\n",
      "Data columns (total 8 columns):\n",
      " #   Column           Non-Null Count  Dtype  \n",
      "---  ------           --------------  -----  \n",
      " 0   fromSocial       2546 non-null   object \n",
      " 1   text             2543 non-null   object \n",
      " 2   likesCount       2545 non-null   float64\n",
      " 3   commentsCount    2545 non-null   float64\n",
      " 4   viewsCount       321 non-null    float64\n",
      " 5   input            2546 non-null   object \n",
      " 6   authorMeta/name  2483 non-null   object \n",
      " 7   creationDate     2545 non-null   object \n",
      "dtypes: float64(3), object(5)\n",
      "memory usage: 159.3+ KB\n"
     ]
    }
   ],
   "source": [
    "data_df.info()"
   ]
  },
  {
   "cell_type": "code",
   "execution_count": 5,
   "metadata": {},
   "outputs": [
    {
     "data": {
      "text/plain": [
       "fromSocial            0\n",
       "text                  3\n",
       "likesCount            1\n",
       "commentsCount         1\n",
       "viewsCount         2225\n",
       "input                 0\n",
       "authorMeta/name      63\n",
       "creationDate          1\n",
       "dtype: int64"
      ]
     },
     "execution_count": 5,
     "metadata": {},
     "output_type": "execute_result"
    }
   ],
   "source": [
    "data_df.isna().sum()"
   ]
  },
  {
   "cell_type": "code",
   "execution_count": 6,
   "metadata": {},
   "outputs": [
    {
     "data": {
      "text/html": [
       "<div>\n",
       "<style scoped>\n",
       "    .dataframe tbody tr th:only-of-type {\n",
       "        vertical-align: middle;\n",
       "    }\n",
       "\n",
       "    .dataframe tbody tr th {\n",
       "        vertical-align: top;\n",
       "    }\n",
       "\n",
       "    .dataframe thead th {\n",
       "        text-align: right;\n",
       "    }\n",
       "</style>\n",
       "<table border=\"1\" class=\"dataframe\">\n",
       "  <thead>\n",
       "    <tr style=\"text-align: right;\">\n",
       "      <th></th>\n",
       "      <th>likesCount</th>\n",
       "      <th>commentsCount</th>\n",
       "      <th>viewsCount</th>\n",
       "    </tr>\n",
       "  </thead>\n",
       "  <tbody>\n",
       "    <tr>\n",
       "      <th>count</th>\n",
       "      <td>2545.000000</td>\n",
       "      <td>2545.000000</td>\n",
       "      <td>3.210000e+02</td>\n",
       "    </tr>\n",
       "    <tr>\n",
       "      <th>mean</th>\n",
       "      <td>712.897839</td>\n",
       "      <td>148.247544</td>\n",
       "      <td>2.522169e+05</td>\n",
       "    </tr>\n",
       "    <tr>\n",
       "      <th>std</th>\n",
       "      <td>7323.585293</td>\n",
       "      <td>2475.833944</td>\n",
       "      <td>1.023982e+06</td>\n",
       "    </tr>\n",
       "    <tr>\n",
       "      <th>min</th>\n",
       "      <td>-1.000000</td>\n",
       "      <td>0.000000</td>\n",
       "      <td>7.300000e+01</td>\n",
       "    </tr>\n",
       "    <tr>\n",
       "      <th>25%</th>\n",
       "      <td>1.000000</td>\n",
       "      <td>0.000000</td>\n",
       "      <td>5.106000e+03</td>\n",
       "    </tr>\n",
       "    <tr>\n",
       "      <th>50%</th>\n",
       "      <td>8.000000</td>\n",
       "      <td>0.000000</td>\n",
       "      <td>2.165300e+04</td>\n",
       "    </tr>\n",
       "    <tr>\n",
       "      <th>75%</th>\n",
       "      <td>98.000000</td>\n",
       "      <td>3.000000</td>\n",
       "      <td>7.837800e+04</td>\n",
       "    </tr>\n",
       "    <tr>\n",
       "      <th>max</th>\n",
       "      <td>219000.000000</td>\n",
       "      <td>91917.000000</td>\n",
       "      <td>1.122714e+07</td>\n",
       "    </tr>\n",
       "  </tbody>\n",
       "</table>\n",
       "</div>"
      ],
      "text/plain": [
       "          likesCount  commentsCount    viewsCount\n",
       "count    2545.000000    2545.000000  3.210000e+02\n",
       "mean      712.897839     148.247544  2.522169e+05\n",
       "std      7323.585293    2475.833944  1.023982e+06\n",
       "min        -1.000000       0.000000  7.300000e+01\n",
       "25%         1.000000       0.000000  5.106000e+03\n",
       "50%         8.000000       0.000000  2.165300e+04\n",
       "75%        98.000000       3.000000  7.837800e+04\n",
       "max    219000.000000   91917.000000  1.122714e+07"
      ]
     },
     "execution_count": 6,
     "metadata": {},
     "output_type": "execute_result"
    }
   ],
   "source": [
    "data_df[['likesCount','commentsCount','viewsCount']].describe()"
   ]
  },
  {
   "cell_type": "code",
   "execution_count": 9,
   "metadata": {},
   "outputs": [
    {
     "name": "stdout",
     "output_type": "stream",
     "text": [
      "<class 'pandas.core.frame.DataFrame'>\n",
      "Index: 96 entries, 53 to 2449\n",
      "Data columns (total 8 columns):\n",
      " #   Column           Non-Null Count  Dtype  \n",
      "---  ------           --------------  -----  \n",
      " 0   fromSocial       96 non-null     object \n",
      " 1   text             96 non-null     object \n",
      " 2   likesCount       96 non-null     float64\n",
      " 3   commentsCount    96 non-null     float64\n",
      " 4   viewsCount       0 non-null      float64\n",
      " 5   input            96 non-null     object \n",
      " 6   authorMeta/name  96 non-null     object \n",
      " 7   creationDate     96 non-null     object \n",
      "dtypes: float64(3), object(5)\n",
      "memory usage: 6.8+ KB\n"
     ]
    },
    {
     "data": {
      "text/html": [
       "<div>\n",
       "<style scoped>\n",
       "    .dataframe tbody tr th:only-of-type {\n",
       "        vertical-align: middle;\n",
       "    }\n",
       "\n",
       "    .dataframe tbody tr th {\n",
       "        vertical-align: top;\n",
       "    }\n",
       "\n",
       "    .dataframe thead th {\n",
       "        text-align: right;\n",
       "    }\n",
       "</style>\n",
       "<table border=\"1\" class=\"dataframe\">\n",
       "  <thead>\n",
       "    <tr style=\"text-align: right;\">\n",
       "      <th></th>\n",
       "      <th>fromSocial</th>\n",
       "      <th>text</th>\n",
       "      <th>likesCount</th>\n",
       "      <th>commentsCount</th>\n",
       "      <th>viewsCount</th>\n",
       "      <th>input</th>\n",
       "      <th>authorMeta/name</th>\n",
       "      <th>creationDate</th>\n",
       "    </tr>\n",
       "  </thead>\n",
       "  <tbody>\n",
       "    <tr>\n",
       "      <th>53</th>\n",
       "      <td>instagram</td>\n",
       "      <td>On October 7, 2023, Israel faced an unexpected...</td>\n",
       "      <td>-1.0</td>\n",
       "      <td>1.0</td>\n",
       "      <td>NaN</td>\n",
       "      <td>israelpalestineconflict</td>\n",
       "      <td>The Indian Netizens</td>\n",
       "      <td>2024-10-07T08:10:50.000Z</td>\n",
       "    </tr>\n",
       "    <tr>\n",
       "      <th>57</th>\n",
       "      <td>instagram</td>\n",
       "      <td>🕯️ 🕊️\\n.\\n.\\n.\\n.\\n#peacebuilding #conflictres...</td>\n",
       "      <td>-1.0</td>\n",
       "      <td>13.0</td>\n",
       "      <td>NaN</td>\n",
       "      <td>israelpalestineconflict</td>\n",
       "      <td>Amir Sommer</td>\n",
       "      <td>2024-10-07T05:39:41.000Z</td>\n",
       "    </tr>\n",
       "    <tr>\n",
       "      <th>135</th>\n",
       "      <td>instagram</td>\n",
       "      <td>🕌 De acordo com a imprensa internacional, os H...</td>\n",
       "      <td>-1.0</td>\n",
       "      <td>0.0</td>\n",
       "      <td>NaN</td>\n",
       "      <td>yemencivilwar</td>\n",
       "      <td>Conversas com a História | Guerras, História e...</td>\n",
       "      <td>2024-01-05T17:31:40.000Z</td>\n",
       "    </tr>\n",
       "    <tr>\n",
       "      <th>136</th>\n",
       "      <td>instagram</td>\n",
       "      <td>#freepalestine🇵🇸 #freecongo🇨🇩 #freesudan🇸🇩 #fr...</td>\n",
       "      <td>-1.0</td>\n",
       "      <td>0.0</td>\n",
       "      <td>NaN</td>\n",
       "      <td>yemencivilwar</td>\n",
       "      <td>Laila Imani</td>\n",
       "      <td>2023-11-15T00:18:27.000Z</td>\n",
       "    </tr>\n",
       "    <tr>\n",
       "      <th>138</th>\n",
       "      <td>instagram</td>\n",
       "      <td>#freepalestine🇵🇸 #freecongo🇨🇩 #freesudan🇸🇩 #fr...</td>\n",
       "      <td>-1.0</td>\n",
       "      <td>0.0</td>\n",
       "      <td>NaN</td>\n",
       "      <td>yemencivilwar</td>\n",
       "      <td>Laila Imani</td>\n",
       "      <td>2023-11-15T00:15:44.000Z</td>\n",
       "    </tr>\n",
       "  </tbody>\n",
       "</table>\n",
       "</div>"
      ],
      "text/plain": [
       "    fromSocial                                               text  likesCount  \\\n",
       "53   instagram  On October 7, 2023, Israel faced an unexpected...        -1.0   \n",
       "57   instagram  🕯️ 🕊️\\n.\\n.\\n.\\n.\\n#peacebuilding #conflictres...        -1.0   \n",
       "135  instagram  🕌 De acordo com a imprensa internacional, os H...        -1.0   \n",
       "136  instagram  #freepalestine🇵🇸 #freecongo🇨🇩 #freesudan🇸🇩 #fr...        -1.0   \n",
       "138  instagram  #freepalestine🇵🇸 #freecongo🇨🇩 #freesudan🇸🇩 #fr...        -1.0   \n",
       "\n",
       "     commentsCount  viewsCount                    input  \\\n",
       "53             1.0         NaN  israelpalestineconflict   \n",
       "57            13.0         NaN  israelpalestineconflict   \n",
       "135            0.0         NaN            yemencivilwar   \n",
       "136            0.0         NaN            yemencivilwar   \n",
       "138            0.0         NaN            yemencivilwar   \n",
       "\n",
       "                                       authorMeta/name  \\\n",
       "53                                 The Indian Netizens   \n",
       "57                                         Amir Sommer   \n",
       "135  Conversas com a História | Guerras, História e...   \n",
       "136                                        Laila Imani   \n",
       "138                                        Laila Imani   \n",
       "\n",
       "                 creationDate  \n",
       "53   2024-10-07T08:10:50.000Z  \n",
       "57   2024-10-07T05:39:41.000Z  \n",
       "135  2024-01-05T17:31:40.000Z  \n",
       "136  2023-11-15T00:18:27.000Z  \n",
       "138  2023-11-15T00:15:44.000Z  "
      ]
     },
     "execution_count": 9,
     "metadata": {},
     "output_type": "execute_result"
    }
   ],
   "source": [
    "minus_likes = data_df[data_df['likesCount'] == -1]\n",
    "\n",
    "minus_likes.info()\n",
    "minus_likes.head()"
   ]
  },
  {
   "cell_type": "code",
   "execution_count": 10,
   "metadata": {},
   "outputs": [
    {
     "name": "stdout",
     "output_type": "stream",
     "text": [
      "<class 'pandas.core.frame.DataFrame'>\n",
      "Index: 1 entries, 269 to 269\n",
      "Data columns (total 8 columns):\n",
      " #   Column           Non-Null Count  Dtype  \n",
      "---  ------           --------------  -----  \n",
      " 0   fromSocial       1 non-null      object \n",
      " 1   text             1 non-null      object \n",
      " 2   likesCount       1 non-null      float64\n",
      " 3   commentsCount    1 non-null      float64\n",
      " 4   viewsCount       1 non-null      float64\n",
      " 5   input            1 non-null      object \n",
      " 6   authorMeta/name  1 non-null      object \n",
      " 7   creationDate     1 non-null      object \n",
      "dtypes: float64(3), object(5)\n",
      "memory usage: 72.0+ bytes\n"
     ]
    },
    {
     "data": {
      "text/html": [
       "<div>\n",
       "<style scoped>\n",
       "    .dataframe tbody tr th:only-of-type {\n",
       "        vertical-align: middle;\n",
       "    }\n",
       "\n",
       "    .dataframe tbody tr th {\n",
       "        vertical-align: top;\n",
       "    }\n",
       "\n",
       "    .dataframe thead th {\n",
       "        text-align: right;\n",
       "    }\n",
       "</style>\n",
       "<table border=\"1\" class=\"dataframe\">\n",
       "  <thead>\n",
       "    <tr style=\"text-align: right;\">\n",
       "      <th></th>\n",
       "      <th>fromSocial</th>\n",
       "      <th>text</th>\n",
       "      <th>likesCount</th>\n",
       "      <th>commentsCount</th>\n",
       "      <th>viewsCount</th>\n",
       "      <th>input</th>\n",
       "      <th>authorMeta/name</th>\n",
       "      <th>creationDate</th>\n",
       "    </tr>\n",
       "  </thead>\n",
       "  <tbody>\n",
       "    <tr>\n",
       "      <th>269</th>\n",
       "      <td>youtube</td>\n",
       "      <td>PART 2: Andrew Tate Talks Palestine and Israel...</td>\n",
       "      <td>219000.0</td>\n",
       "      <td>91917.0</td>\n",
       "      <td>9051874.0</td>\n",
       "      <td>israelpalestineconflict</td>\n",
       "      <td>Piers Morgan Uncensored</td>\n",
       "      <td>2023-11-21T21:00:04.000Z</td>\n",
       "    </tr>\n",
       "  </tbody>\n",
       "</table>\n",
       "</div>"
      ],
      "text/plain": [
       "    fromSocial                                               text  likesCount  \\\n",
       "269    youtube  PART 2: Andrew Tate Talks Palestine and Israel...    219000.0   \n",
       "\n",
       "     commentsCount  viewsCount                    input  \\\n",
       "269        91917.0   9051874.0  israelpalestineconflict   \n",
       "\n",
       "             authorMeta/name              creationDate  \n",
       "269  Piers Morgan Uncensored  2023-11-21T21:00:04.000Z  "
      ]
     },
     "execution_count": 10,
     "metadata": {},
     "output_type": "execute_result"
    }
   ],
   "source": [
    "max_likes = data_df[data_df['likesCount'] == 219000]\n",
    "\n",
    "max_likes.info()\n",
    "max_likes.head()"
   ]
  },
  {
   "cell_type": "markdown",
   "metadata": {},
   "source": [
    "**Insight:**\n",
    "- A large number of Null Values on viewsCount\n",
    "- Several data containing -1 Likes from its posting while this thing is impossible "
   ]
  },
  {
   "cell_type": "markdown",
   "metadata": {},
   "source": [
    "## Data Cleaning"
   ]
  },
  {
   "cell_type": "markdown",
   "metadata": {},
   "source": [
    "### Database Dataset\n",
    "\n",
    "- **Issues :** \n",
    "    - Several data containing -1 Likes from its posting while this thing is impossible\n",
    "    - A large number of Null Values on viewsCount\n",
    "- **Action :** \n",
    "    - Changing Data with -1 Likes to 0 Likes.\n",
    "    - Adding viewsCount by taking predicted amount based on likesCount and commentsCount"
   ]
  },
  {
   "cell_type": "code",
   "execution_count": 11,
   "metadata": {},
   "outputs": [
    {
     "name": "stdout",
     "output_type": "stream",
     "text": [
      "<class 'pandas.core.frame.DataFrame'>\n",
      "RangeIndex: 2546 entries, 0 to 2545\n",
      "Data columns (total 8 columns):\n",
      " #   Column           Non-Null Count  Dtype  \n",
      "---  ------           --------------  -----  \n",
      " 0   fromSocial       2546 non-null   object \n",
      " 1   text             2543 non-null   object \n",
      " 2   likesCount       2545 non-null   float64\n",
      " 3   commentsCount    2545 non-null   float64\n",
      " 4   viewsCount       321 non-null    float64\n",
      " 5   input            2546 non-null   object \n",
      " 6   authorMeta/name  2483 non-null   object \n",
      " 7   creationDate     2545 non-null   object \n",
      "dtypes: float64(3), object(5)\n",
      "memory usage: 159.3+ KB\n"
     ]
    }
   ],
   "source": [
    "data_df.info()"
   ]
  },
  {
   "cell_type": "code",
   "execution_count": 12,
   "metadata": {},
   "outputs": [
    {
     "name": "stdout",
     "output_type": "stream",
     "text": [
      "<class 'pandas.core.frame.DataFrame'>\n",
      "Index: 96 entries, 53 to 2449\n",
      "Data columns (total 8 columns):\n",
      " #   Column           Non-Null Count  Dtype  \n",
      "---  ------           --------------  -----  \n",
      " 0   fromSocial       96 non-null     object \n",
      " 1   text             96 non-null     object \n",
      " 2   likesCount       96 non-null     float64\n",
      " 3   commentsCount    96 non-null     float64\n",
      " 4   viewsCount       0 non-null      float64\n",
      " 5   input            96 non-null     object \n",
      " 6   authorMeta/name  96 non-null     object \n",
      " 7   creationDate     96 non-null     object \n",
      "dtypes: float64(3), object(5)\n",
      "memory usage: 6.8+ KB\n"
     ]
    }
   ],
   "source": [
    "minus_likes.info()"
   ]
  },
  {
   "cell_type": "code",
   "execution_count": 13,
   "metadata": {},
   "outputs": [],
   "source": [
    "data_df['likesCount'] = data_df['likesCount'].replace(-1, 0)"
   ]
  },
  {
   "cell_type": "code",
   "execution_count": 15,
   "metadata": {},
   "outputs": [
    {
     "name": "stdout",
     "output_type": "stream",
     "text": [
      "<class 'pandas.core.frame.DataFrame'>\n",
      "Index: 0 entries\n",
      "Data columns (total 8 columns):\n",
      " #   Column           Non-Null Count  Dtype  \n",
      "---  ------           --------------  -----  \n",
      " 0   fromSocial       0 non-null      object \n",
      " 1   text             0 non-null      object \n",
      " 2   likesCount       0 non-null      float64\n",
      " 3   commentsCount    0 non-null      float64\n",
      " 4   viewsCount       0 non-null      float64\n",
      " 5   input            0 non-null      object \n",
      " 6   authorMeta/name  0 non-null      object \n",
      " 7   creationDate     0 non-null      object \n",
      "dtypes: float64(3), object(5)\n",
      "memory usage: 0.0+ bytes\n"
     ]
    }
   ],
   "source": [
    "minus_likes = data_df[data_df['likesCount'] == -1]\n",
    "minus_likes.info()"
   ]
  },
  {
   "cell_type": "markdown",
   "metadata": {},
   "source": []
  }
 ],
 "metadata": {
  "kernelspec": {
   "display_name": "Python 3",
   "language": "python",
   "name": "python3"
  },
  "language_info": {
   "codemirror_mode": {
    "name": "ipython",
    "version": 3
   },
   "file_extension": ".py",
   "mimetype": "text/x-python",
   "name": "python",
   "nbconvert_exporter": "python",
   "pygments_lexer": "ipython3",
   "version": "3.12.7"
  }
 },
 "nbformat": 4,
 "nbformat_minor": 2
}
