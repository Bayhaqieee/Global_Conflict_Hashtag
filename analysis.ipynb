{
 "cells": [
  {
   "cell_type": "markdown",
   "metadata": {},
   "source": [
    "# Analysis Project on Data : Global Conflict Hashtag on Social Media\n",
    "- **Linkedin :** Muhammad Aditya Bayhaqie\n",
    "- **Email :** adityabayhaqie@gmail.com\n",
    "- **Github :** bayhaqieee"
   ]
  },
  {
   "cell_type": "markdown",
   "metadata": {},
   "source": [
    "## Business Questions"
   ]
  },
  {
   "cell_type": "markdown",
   "metadata": {},
   "source": [
    "- When is the Highest Posting time and Lowest Posting time for the Most Hashtag?\n",
    "- Which Conflict shows a High Exposure on Hashtag?\n",
    "- What Content Summary for each Tag?"
   ]
  },
  {
   "cell_type": "markdown",
   "metadata": {},
   "source": []
  }
 ],
 "metadata": {
  "kernelspec": {
   "display_name": "Python 3",
   "language": "python",
   "name": "python3"
  },
  "language_info": {
   "name": "python",
   "version": "3.12.7"
  }
 },
 "nbformat": 4,
 "nbformat_minor": 2
}
